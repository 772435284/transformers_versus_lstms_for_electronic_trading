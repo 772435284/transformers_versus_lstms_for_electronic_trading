{
 "cells": [
  {
   "cell_type": "code",
   "execution_count": null,
   "metadata": {},
   "outputs": [],
   "source": [
    "'''\n",
    "@Author: Yitao Qiu\n",
    "'''\n",
    "import numpy as np\n",
    "import pandas as pd\n",
    "import matplotlib.pyplot as plt\n",
    "from tqdm import tqdm\n",
    "from sklearn.preprocessing import StandardScaler\n",
    "#import torch\n",
    "from copy import deepcopy\n",
    "import os"
   ]
  },
  {
   "cell_type": "markdown",
   "metadata": {},
   "source": [
    "### Read data"
   ]
  },
  {
   "cell_type": "code",
   "execution_count": null,
   "metadata": {},
   "outputs": [],
   "source": [
    "product = 'eth'\n",
    "df = pd.read_csv(f'datasets/{product}_usdt.csv')\n",
    "df"
   ]
  },
  {
   "cell_type": "code",
   "execution_count": null,
   "metadata": {},
   "outputs": [],
   "source": [
    "# Create all the saving paths\n",
    "if not os.path.exists(f'./price_{product}'):\n",
    "    os.makedirs(f'./price_{product}')\n",
    "if not os.path.exists(f'./label_{product}'):\n",
    "    os.makedirs(f'./label_{product}')"
   ]
  },
  {
   "cell_type": "code",
   "execution_count": null,
   "metadata": {},
   "outputs": [],
   "source": [
    "k = [20,30,50,100]"
   ]
  },
  {
   "cell_type": "code",
   "execution_count": null,
   "metadata": {},
   "outputs": [],
   "source": [
    "#m_-(t)\n",
    "for j in range(len(k)):\n",
    "    m_minus = []\n",
    "    for i in tqdm(range(k[j],len(df['mid_price']))):\n",
    "        m =  df['mid_price'][i-k[j]+1:i+1].mean()\n",
    "        m_minus.append(m)\n",
    "    m_minus = np.array(m_minus)\n",
    "    np.save(f\"price_{product}/m_minus_{k[j]}\",m_minus)"
   ]
  },
  {
   "cell_type": "code",
   "execution_count": null,
   "metadata": {},
   "outputs": [],
   "source": [
    "#m_+(t)\n",
    "for j in range(len(k)):\n",
    "    m_plus = []\n",
    "    for i in tqdm(range(0,len(df['mid_price'])-k[j])):\n",
    "        m = df['mid_price'][i+1:i+k[j]+1].mean()\n",
    "        m_plus.append(m)\n",
    "    m_plus = np.array(m_plus)\n",
    "    np.save(f\"price_{product}/m_plus_{k[j]}\",m_plus)"
   ]
  },
  {
   "cell_type": "markdown",
   "metadata": {},
   "source": [
    "### Make labels using smoothing label method"
   ]
  },
  {
   "cell_type": "code",
   "execution_count": null,
   "metadata": {},
   "outputs": [],
   "source": [
    "# Choose the horizon\n",
    "horizon = 3\n",
    "k_selected = k[horizon]\n",
    "alpha = 0.000092\n",
    "# Load the save information\n",
    "m_minus = np.load(f\"price_{product}/m_minus_{k_selected}.npy\")\n",
    "m_plus = np.load(f\"price_{product}/m_plus_{k_selected}.npy\")\n",
    "print(m_minus.shape)\n",
    "print(m_plus.shape)"
   ]
  },
  {
   "cell_type": "code",
   "execution_count": null,
   "metadata": {},
   "outputs": [],
   "source": [
    "m_minus = m_minus[0:len(m_minus)-k_selected]\n",
    "m_plus = m_plus[k_selected:]\n",
    "print(m_minus.shape)\n",
    "print(m_plus.shape)"
   ]
  },
  {
   "cell_type": "code",
   "execution_count": null,
   "metadata": {},
   "outputs": [],
   "source": [
    "# l_(t)\n",
    "label = []\n",
    "for i in tqdm(range(len(m_minus))):\n",
    "    l_v = (m_plus[i]-m_minus[i])/m_minus[i]\n",
    "    if l_v > alpha:\n",
    "        l = 2\n",
    "    elif l_v < -alpha:\n",
    "        l = 0\n",
    "    else:\n",
    "        l = 1\n",
    "    label.append(l)\n",
    "label = np.array(label)"
   ]
  },
  {
   "cell_type": "code",
   "execution_count": null,
   "metadata": {},
   "outputs": [],
   "source": [
    "# Check whether the labels are balanced before output\n",
    "unique, counts = np.unique(label, return_counts=True)\n",
    "print(dict(zip(unique, counts)))\n",
    "plt.rcParams[\"figure.figsize\"] = (5,5)\n",
    "plt.bar(unique, height=counts)"
   ]
  },
  {
   "cell_type": "code",
   "execution_count": null,
   "metadata": {},
   "outputs": [],
   "source": [
    "# Check whether the train set is balanced\n",
    "unique, counts = np.unique(label[0:5110311-k_selected], return_counts=True)\n",
    "print(dict(zip(unique, counts)))\n",
    "plt.rcParams[\"figure.figsize\"] = (5,5)\n",
    "all_count = counts.sum()\n",
    "plt.bar(unique, height=(counts/all_count)*100)"
   ]
  },
  {
   "cell_type": "code",
   "execution_count": null,
   "metadata": {},
   "outputs": [],
   "source": [
    "# Check whether the validation set is balanced\n",
    "unique, counts = np.unique(label[5110311-k_selected:7675082], return_counts=True)\n",
    "print(dict(zip(unique, counts)))\n",
    "plt.rcParams[\"figure.figsize\"] = (5,5)\n",
    "all_count = counts.sum()\n",
    "plt.bar(unique, height=(counts/all_count)*100)"
   ]
  },
  {
   "cell_type": "code",
   "execution_count": null,
   "metadata": {},
   "outputs": [],
   "source": [
    "# Check whether the test set is balanced\n",
    "unique, counts = np.unique(label[7675082:10255344-k_selected], return_counts=True)\n",
    "print(dict(zip(unique, counts)))\n",
    "plt.rcParams[\"figure.figsize\"] = (5,5)\n",
    "all_count = counts.sum()\n",
    "plt.bar(unique, height=(counts/all_count)*100)"
   ]
  },
  {
   "cell_type": "code",
   "execution_count": null,
   "metadata": {},
   "outputs": [],
   "source": [
    "np.save(f\"label_{product}/label_{k_selected}\",label)"
   ]
  },
  {
   "cell_type": "markdown",
   "metadata": {},
   "source": [
    "### Plot to see whether the label are correct"
   ]
  },
  {
   "cell_type": "code",
   "execution_count": null,
   "metadata": {},
   "outputs": [],
   "source": [
    "label = np.load(f\"label_{product}/label_100.npy\")\n",
    "k_selected =100"
   ]
  },
  {
   "cell_type": "code",
   "execution_count": null,
   "metadata": {},
   "outputs": [],
   "source": [
    "plt.rcParams[\"figure.figsize\"] = (10,5)\n",
    "for i in range(0,10000):\n",
    "    if label[i] == 1 and label[i+1] == 1:\n",
    "        plt.axvspan(i, i+1, facecolor='b', alpha=0.5)\n",
    "    elif  label[i] == 2 and label[i+1] == 2:\n",
    "        plt.axvspan(i, i+1, facecolor='g', alpha=0.5)\n",
    "    else:\n",
    "        plt.axvspan(i, i+1, facecolor='r', alpha=0.5)\n",
    "plt.plot(df['mid_price'][k_selected:10000])\n"
   ]
  },
  {
   "cell_type": "markdown",
   "metadata": {},
   "source": [
    "### Append the labels back to the origin csv"
   ]
  },
  {
   "cell_type": "code",
   "execution_count": null,
   "metadata": {},
   "outputs": [],
   "source": [
    "# Load the saved labels\n",
    "label_2 = np.load(f\"label_{product}/label_20.npy\")\n",
    "label_3 = np.load(f\"label_{product}/label_30.npy\")\n",
    "label_4 = np.load(f\"label_{product}/label_50.npy\")\n",
    "label_5 = np.load(f\"label_{product}/label_100.npy\")"
   ]
  },
  {
   "cell_type": "code",
   "execution_count": null,
   "metadata": {},
   "outputs": [],
   "source": [
    "# Crop the length\n",
    "label_4 = label_4[50:-50]\n",
    "label_3 = label_3[70:-70]\n",
    "label_2 = label_2[80:-80]\n",
    "label_1 = np.zeros(len(label_5))\n",
    "df = df[100:-100]\n",
    "print(df.shape)"
   ]
  },
  {
   "cell_type": "code",
   "execution_count": null,
   "metadata": {},
   "outputs": [],
   "source": [
    "df.insert(42, \"label_1\", label_1)\n",
    "df.insert(43, \"label_2\", label_2)\n",
    "df.insert(44, \"label_3\", label_3)\n",
    "df.insert(45, \"label_4\", label_4)\n",
    "df.insert(46, \"label_5\", label_5)"
   ]
  },
  {
   "cell_type": "markdown",
   "metadata": {},
   "source": [
    "### Save the dataset"
   ]
  },
  {
   "cell_type": "code",
   "execution_count": null,
   "metadata": {},
   "outputs": [],
   "source": [
    "df.to_csv(f'datasets/{product}_usdt_label.csv',index=False)"
   ]
  }
 ],
 "metadata": {
  "kernelspec": {
   "display_name": "Python 3.8.8 ('base')",
   "language": "python",
   "name": "python3"
  },
  "language_info": {
   "codemirror_mode": {
    "name": "ipython",
    "version": 3
   },
   "file_extension": ".py",
   "mimetype": "text/x-python",
   "name": "python",
   "nbconvert_exporter": "python",
   "pygments_lexer": "ipython3",
   "version": "3.8.8"
  },
  "orig_nbformat": 4,
  "vscode": {
   "interpreter": {
    "hash": "ad2bdc8ecc057115af97d19610ffacc2b4e99fae6737bb82f5d7fb13d2f2c186"
   }
  }
 },
 "nbformat": 4,
 "nbformat_minor": 2
}
